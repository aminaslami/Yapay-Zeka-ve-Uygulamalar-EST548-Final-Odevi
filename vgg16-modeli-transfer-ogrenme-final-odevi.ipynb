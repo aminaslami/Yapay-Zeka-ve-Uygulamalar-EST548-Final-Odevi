{
 "cells": [
  {
   "cell_type": "markdown",
   "metadata": {},
   "source": [
    "# Kan Hücresi Alt Tipi Sınıflandırması: Finetune VGG16 modeli kullanılarak Transfer Öğrenme."
   ]
  },
  {
   "cell_type": "code",
   "execution_count": 1,
   "metadata": {
    "_cell_guid": "b1076dfc-b9ad-4769-8c92-a6c4dae69d19",
    "_uuid": "8f2839f25d086af736a60e9eeb907d3b93b6e0e5",
    "execution": {
     "iopub.execute_input": "2024-07-01T07:44:06.300641Z",
     "iopub.status.busy": "2024-07-01T07:44:06.300314Z",
     "iopub.status.idle": "2024-07-01T07:44:12.072840Z",
     "shell.execute_reply": "2024-07-01T07:44:12.072063Z",
     "shell.execute_reply.started": "2024-07-01T07:44:06.300611Z"
    }
   },
   "outputs": [],
   "source": [
    "import numpy as np\n",
    "import pandas as pd\n",
    "import matplotlib.pyplot as plt\n",
    "import os\n",
    "import cv2\n",
    "import seaborn as sns\n",
    "from tqdm import tqdm \n",
    "from sklearn.utils import shuffle\n",
    "from sklearn import decomposition\n",
    "from sklearn.model_selection import train_test_split\n",
    "from sklearn.metrics import accuracy_score, confusion_matrix\n",
    "import tensorflow as tf\n",
    "import keras\n",
    "from keras.applications.vgg16 import VGG16 \n",
    "from keras.preprocessing import image\n",
    "from keras.applications.vgg16 import preprocess_input\n",
    "from keras.models import Sequential, Model \n",
    "from keras.applications import DenseNet201\n",
    "from keras.initializers import he_normal\n",
    "from keras.layers import Lambda, SeparableConv2D, BatchNormalization, Dropout, MaxPooling2D, Input, Dense, Conv2D, Activation, Flatten \n",
    "from keras.callbacks import EarlyStopping, ReduceLROnPlateau, ModelCheckpoint"
   ]
  },
  {
   "cell_type": "markdown",
   "metadata": {},
   "source": [
    "# Verilerin Yüklenmesi"
   ]
  },
  {
   "cell_type": "code",
   "execution_count": 2,
   "metadata": {
    "_cell_guid": "79c7e3d0-c299-4dcb-8224-4455121ee9b0",
    "_uuid": "d629ff2d2480ee46fbb7e2d37f6b5fab8052498a",
    "execution": {
     "iopub.execute_input": "2024-07-01T07:44:42.291297Z",
     "iopub.status.busy": "2024-07-01T07:44:42.290933Z",
     "iopub.status.idle": "2024-07-01T07:44:42.295794Z",
     "shell.execute_reply": "2024-07-01T07:44:42.295032Z",
     "shell.execute_reply.started": "2024-07-01T07:44:42.291262Z"
    }
   },
   "outputs": [],
   "source": [
    "class_names = ['EOSINOPHIL', 'LYMPHOCYTE', 'MONOCYTE', 'NEUTROPHIL']\n",
    "nb_classes = len(class_names)\n",
    "image_size = (150,150)"
   ]
  },
  {
   "cell_type": "code",
   "execution_count": 3,
   "metadata": {
    "execution": {
     "iopub.execute_input": "2024-07-01T07:47:44.881964Z",
     "iopub.status.busy": "2024-07-01T07:47:44.881622Z",
     "iopub.status.idle": "2024-07-01T07:47:44.893929Z",
     "shell.execute_reply": "2024-07-01T07:47:44.893077Z",
     "shell.execute_reply.started": "2024-07-01T07:47:44.881936Z"
    }
   },
   "outputs": [],
   "source": [
    "def load_data():\n",
    "\n",
    "    datasets = ['/kaggle/input/blood-cells/dataset2-master/dataset2-master/images/TRAIN','/kaggle/input/blood-cells/dataset2-master/dataset2-master/images/TEST' ]\n",
    "    images = []\n",
    "    labels = []\n",
    "\n",
    "    # Eğitim ve test kümeleri arasında yineleme yapınız.\n",
    "    for dataset in datasets:\n",
    "\n",
    "        # Her veri kümesindeki klasörler arasında yineleme yapınız.\n",
    "        for folder in os.listdir(dataset):\n",
    "\n",
    "            if folder in ['EOSINOPHIL']: label = 0\n",
    "            elif folder in ['LYMPHOCYTE']: label = 1\n",
    "            elif folder in ['MONOCYTE']: label = 2\n",
    "            elif folder in ['NEUTROPHIL']: label = 3\n",
    "\n",
    "            # iterate through each image in folder\n",
    "            for file in tqdm(os.listdir(os.path.join(dataset, folder))):\n",
    "\n",
    "                # her bir görüntünün path alınız.\n",
    "                img_path = os.path.join(os.path.join(dataset, folder), file)\n",
    "\n",
    "                # img dosyasını açın ve yeniden boyutlandırınız\n",
    "                image = cv2.imread(img_path)\n",
    "                image = cv2.cvtColor(image, cv2.COLOR_BGR2RGB)\n",
    "                image = cv2.resize(image, image_size)\n",
    "\n",
    "                # Görüntüyü ve ona karşılık gelen etiketi çıktıya ekleyeniz\n",
    "                images.append(image)\n",
    "                labels.append(label)\n",
    "\n",
    "    images = np.array(images, dtype = 'float32')\n",
    "    labels = np.array(labels, dtype = 'int32')\n",
    "\n",
    "    return images, labels"
   ]
  },
  {
   "cell_type": "code",
   "execution_count": 4,
   "metadata": {
    "execution": {
     "iopub.execute_input": "2024-07-01T07:47:51.388790Z",
     "iopub.status.busy": "2024-07-01T07:47:51.388432Z",
     "iopub.status.idle": "2024-07-01T07:49:48.936009Z",
     "shell.execute_reply": "2024-07-01T07:49:48.935331Z",
     "shell.execute_reply.started": "2024-07-01T07:47:51.388756Z"
    }
   },
   "outputs": [
    {
     "name": "stderr",
     "output_type": "stream",
     "text": [
      "100%|██████████| 2478/2478 [00:23<00:00, 104.88it/s]\n",
      "100%|██████████| 2499/2499 [00:23<00:00, 105.60it/s]\n",
      "100%|██████████| 2483/2483 [00:23<00:00, 105.42it/s]\n",
      "100%|██████████| 2497/2497 [00:24<00:00, 102.32it/s]\n",
      "100%|██████████| 620/620 [00:04<00:00, 137.20it/s]\n",
      "100%|██████████| 624/624 [00:04<00:00, 137.28it/s]\n",
      "100%|██████████| 620/620 [00:04<00:00, 134.13it/s]\n",
      "100%|██████████| 623/623 [00:04<00:00, 136.56it/s]\n"
     ]
    }
   ],
   "source": [
    "images, labels = load_data()"
   ]
  },
  {
   "cell_type": "code",
   "execution_count": 5,
   "metadata": {
    "execution": {
     "iopub.execute_input": "2024-07-01T07:49:57.488438Z",
     "iopub.status.busy": "2024-07-01T07:49:57.488077Z",
     "iopub.status.idle": "2024-07-01T07:49:59.704630Z",
     "shell.execute_reply": "2024-07-01T07:49:59.703797Z",
     "shell.execute_reply.started": "2024-07-01T07:49:57.488404Z"
    }
   },
   "outputs": [],
   "source": [
    "images, labels = shuffle(images, labels, random_state=5)\n",
    "\n",
    "# Verileri eğitim ve doğrulama kümelerine bölünmesi (%70 eğitim, %30 test)\n",
    "train_images, test_images, train_labels, test_labels = train_test_split(images, labels, test_size = 0.3)\n",
    "test_images, val_images, test_labels, val_labels = train_test_split(test_images, test_labels, test_size = 0.5)"
   ]
  },
  {
   "cell_type": "markdown",
   "metadata": {},
   "source": [
    "# Model oluşturma ve eğitimi"
   ]
  },
  {
   "cell_type": "code",
   "execution_count": 6,
   "metadata": {
    "execution": {
     "iopub.execute_input": "2024-07-01T07:51:42.116337Z",
     "iopub.status.busy": "2024-07-01T07:51:42.115921Z",
     "iopub.status.idle": "2024-07-01T07:51:46.569815Z",
     "shell.execute_reply": "2024-07-01T07:51:46.568970Z",
     "shell.execute_reply.started": "2024-07-01T07:51:42.116298Z"
    }
   },
   "outputs": [
    {
     "name": "stdout",
     "output_type": "stream",
     "text": [
      "Downloading data from https://storage.googleapis.com/tensorflow/keras-applications/vgg16/vgg16_weights_tf_dim_ordering_tf_kernels_notop.h5\n",
      "58892288/58889256 [==============================] - 2s 0us/step\n",
      "Model: \"functional_1\"\n",
      "_________________________________________________________________\n",
      "Layer (type)                 Output Shape              Param #   \n",
      "=================================================================\n",
      "input_2 (InputLayer)         [(None, 150, 150, 3)]     0         \n",
      "_________________________________________________________________\n",
      "vgg16 (Functional)           (None, 4, 4, 512)         14714688  \n",
      "_________________________________________________________________\n",
      "flatten (Flatten)            (None, 8192)              0         \n",
      "_________________________________________________________________\n",
      "batch_normalization (BatchNo (None, 8192)              32768     \n",
      "_________________________________________________________________\n",
      "dense (Dense)                (None, 256)               2097408   \n",
      "_________________________________________________________________\n",
      "dropout (Dropout)            (None, 256)               0         \n",
      "_________________________________________________________________\n",
      "batch_normalization_1 (Batch (None, 256)               1024      \n",
      "_________________________________________________________________\n",
      "dense_1 (Dense)              (None, 128)               32896     \n",
      "_________________________________________________________________\n",
      "dropout_1 (Dropout)          (None, 128)               0         \n",
      "_________________________________________________________________\n",
      "dense_2 (Dense)              (None, 64)                8256      \n",
      "_________________________________________________________________\n",
      "dropout_2 (Dropout)          (None, 64)                0         \n",
      "_________________________________________________________________\n",
      "dense_3 (Dense)              (None, 4)                 260       \n",
      "=================================================================\n",
      "Total params: 16,887,300\n",
      "Trainable params: 2,155,716\n",
      "Non-trainable params: 14,731,584\n",
      "_________________________________________________________________\n"
     ]
    }
   ],
   "source": [
    "### Model numarası 3: Ayarlı VGG16 modeli. \n",
    "\n",
    "from keras.applications import VGG16\n",
    "\n",
    "vgg16_model = VGG16(\n",
    "    include_top = False,\n",
    "    weights = 'imagenet', \n",
    "    input_tensor = None, \n",
    "    input_shape = (150,150,3), \n",
    "    pooling = None\n",
    ")\n",
    "\n",
    "# 3 tam bağlı katman eklendi, sırasıyla 256, 128 ve 64 birim\n",
    "# Dropout ve Batch Normalization tam bağlı katmanlarda gerçekleştirildi.\n",
    "# Burada VGG15 modelindeki son blokta eğitim verme seçeneği (\"True\") veya bu katman için imagenet ağırlıklarını kullanma seçeneği (\"False\")\n",
    "\n",
    "vgg16_model.trainable = True\n",
    "\n",
    "for layer in vgg16_model.layers:\n",
    "  if 'block5' in layer.name:\n",
    "    layer.trainable = False\n",
    "  else:\n",
    "    layer.trainable = False\n",
    "\n",
    "input = Input(shape = (150,150,3))\n",
    "\n",
    "layer = vgg16_model(inputs=input)\n",
    "layer = Flatten()(layer)\n",
    "layer = BatchNormalization()(layer)\n",
    "layer = Dense(units=256, activation='relu')(layer)\n",
    "layer = Dropout(0.7)(layer)\n",
    "layer = BatchNormalization()(layer)\n",
    "layer = Dense(units=128, activation='relu')(layer)\n",
    "layer = Dropout(0.5)(layer)\n",
    "layer = Dense(units=64, activation='relu')(layer)\n",
    "layer = Dropout(0.3)(layer)\n",
    "layer = Dense(units=4,activation='softmax')(layer)\n",
    "\n",
    "model3 = Model(inputs=input, outputs=layer)\n",
    "\n",
    "model3.summary()\n",
    "\n",
    "model3.compile(loss='sparse_categorical_crossentropy',\n",
    "            optimizer= 'adam',\n",
    "            metrics=['accuracy'])\n",
    "\n",
    "learning_rate_reduction = ReduceLROnPlateau(\n",
    "    monitor = 'val_accuracy', \n",
    "    patience = 2, \n",
    "    verbose = 1, \n",
    "    factor = 0.3, \n",
    "    min_lr = 0.000001)"
   ]
  },
  {
   "cell_type": "markdown",
   "metadata": {},
   "source": [
    "Modelin kayıp ve doğrulama doğruluğunun her birinin yakınsayıp yakınsamayacağını görmek için, dönem sayısını 10-15'ten (Bölüm 1 ve 2'de önceki iki modelde kullandığım) 30'a çıkarmaya karar verdik. Gerçekten de öyle oldu ve bu platoları aşağıdaki grafiklerde görselleştirebilirsiniz."
   ]
  },
  {
   "cell_type": "code",
   "execution_count": 7,
   "metadata": {
    "execution": {
     "iopub.execute_input": "2024-07-01T07:52:42.305959Z",
     "iopub.status.busy": "2024-07-01T07:52:42.305633Z",
     "iopub.status.idle": "2024-07-01T07:58:32.562113Z",
     "shell.execute_reply": "2024-07-01T07:58:32.561382Z",
     "shell.execute_reply.started": "2024-07-01T07:52:42.305932Z"
    }
   },
   "outputs": [
    {
     "name": "stdout",
     "output_type": "stream",
     "text": [
      "Epoch 1/30\n",
      "273/273 [==============================] - 12s 46ms/step - loss: 1.4904 - accuracy: 0.3087 - val_loss: 1.1952 - val_accuracy: 0.5201\n",
      "Epoch 2/30\n",
      "273/273 [==============================] - 11s 42ms/step - loss: 1.2411 - accuracy: 0.4318 - val_loss: 0.9777 - val_accuracy: 0.5940\n",
      "Epoch 3/30\n",
      "273/273 [==============================] - 11s 42ms/step - loss: 1.0575 - accuracy: 0.5421 - val_loss: 0.7785 - val_accuracy: 0.6792\n",
      "Epoch 4/30\n",
      "273/273 [==============================] - 11s 42ms/step - loss: 0.9167 - accuracy: 0.6127 - val_loss: 0.6682 - val_accuracy: 0.7172\n",
      "Epoch 5/30\n",
      "273/273 [==============================] - 11s 42ms/step - loss: 0.7918 - accuracy: 0.6746 - val_loss: 0.5886 - val_accuracy: 0.7456\n",
      "Epoch 6/30\n",
      "273/273 [==============================] - 11s 42ms/step - loss: 0.7146 - accuracy: 0.7125 - val_loss: 0.5476 - val_accuracy: 0.7863\n",
      "Epoch 7/30\n",
      "273/273 [==============================] - 11s 42ms/step - loss: 0.6510 - accuracy: 0.7510 - val_loss: 0.5073 - val_accuracy: 0.8093\n",
      "Epoch 8/30\n",
      "273/273 [==============================] - 11s 42ms/step - loss: 0.6016 - accuracy: 0.7667 - val_loss: 0.4910 - val_accuracy: 0.8136\n",
      "Epoch 9/30\n",
      "273/273 [==============================] - 11s 42ms/step - loss: 0.5484 - accuracy: 0.7932 - val_loss: 0.5104 - val_accuracy: 0.8088\n",
      "Epoch 10/30\n",
      "273/273 [==============================] - 11s 42ms/step - loss: 0.5233 - accuracy: 0.8036 - val_loss: 0.4781 - val_accuracy: 0.8275\n",
      "Epoch 11/30\n",
      "273/273 [==============================] - 11s 42ms/step - loss: 0.4785 - accuracy: 0.8164 - val_loss: 0.4825 - val_accuracy: 0.8259\n",
      "Epoch 12/30\n",
      "273/273 [==============================] - ETA: 0s - loss: 0.4787 - accuracy: 0.8169\n",
      "Epoch 00012: ReduceLROnPlateau reducing learning rate to 0.0003000000142492354.\n",
      "273/273 [==============================] - 11s 42ms/step - loss: 0.4787 - accuracy: 0.8169 - val_loss: 0.4766 - val_accuracy: 0.8270\n",
      "Epoch 13/30\n",
      "273/273 [==============================] - 11s 42ms/step - loss: 0.4200 - accuracy: 0.8441 - val_loss: 0.4788 - val_accuracy: 0.8307\n",
      "Epoch 14/30\n",
      "273/273 [==============================] - 11s 42ms/step - loss: 0.4039 - accuracy: 0.8510 - val_loss: 0.4587 - val_accuracy: 0.8409\n",
      "Epoch 15/30\n",
      "273/273 [==============================] - 11s 42ms/step - loss: 0.3747 - accuracy: 0.8646 - val_loss: 0.4770 - val_accuracy: 0.8404\n",
      "Epoch 16/30\n",
      "273/273 [==============================] - 11s 42ms/step - loss: 0.3410 - accuracy: 0.8736 - val_loss: 0.4778 - val_accuracy: 0.8441\n",
      "Epoch 17/30\n",
      "273/273 [==============================] - 11s 42ms/step - loss: 0.3110 - accuracy: 0.8876 - val_loss: 0.5127 - val_accuracy: 0.8447\n",
      "Epoch 18/30\n",
      "273/273 [==============================] - 11s 42ms/step - loss: 0.3030 - accuracy: 0.8902 - val_loss: 0.5030 - val_accuracy: 0.8452\n",
      "Epoch 19/30\n",
      "273/273 [==============================] - 11s 42ms/step - loss: 0.2799 - accuracy: 0.8970 - val_loss: 0.5065 - val_accuracy: 0.8441\n",
      "Epoch 20/30\n",
      "273/273 [==============================] - ETA: 0s - loss: 0.2868 - accuracy: 0.8982\n",
      "Epoch 00020: ReduceLROnPlateau reducing learning rate to 9.000000427477062e-05.\n",
      "273/273 [==============================] - 11s 42ms/step - loss: 0.2868 - accuracy: 0.8982 - val_loss: 0.4938 - val_accuracy: 0.8404\n",
      "Epoch 21/30\n",
      "273/273 [==============================] - 11s 42ms/step - loss: 0.2719 - accuracy: 0.9026 - val_loss: 0.4943 - val_accuracy: 0.8425\n",
      "Epoch 22/30\n",
      "273/273 [==============================] - 11s 42ms/step - loss: 0.2504 - accuracy: 0.9109 - val_loss: 0.5119 - val_accuracy: 0.8457\n",
      "Epoch 23/30\n",
      "273/273 [==============================] - 11s 42ms/step - loss: 0.2454 - accuracy: 0.9144 - val_loss: 0.5076 - val_accuracy: 0.8468\n",
      "Epoch 24/30\n",
      "273/273 [==============================] - 11s 42ms/step - loss: 0.2530 - accuracy: 0.9087 - val_loss: 0.5104 - val_accuracy: 0.8473\n",
      "Epoch 25/30\n",
      "273/273 [==============================] - 11s 42ms/step - loss: 0.2465 - accuracy: 0.9126 - val_loss: 0.5168 - val_accuracy: 0.8516\n",
      "Epoch 26/30\n",
      "273/273 [==============================] - 11s 42ms/step - loss: 0.2405 - accuracy: 0.9110 - val_loss: 0.5123 - val_accuracy: 0.8516\n",
      "Epoch 27/30\n",
      "273/273 [==============================] - 11s 42ms/step - loss: 0.2313 - accuracy: 0.9157 - val_loss: 0.5205 - val_accuracy: 0.8559\n",
      "Epoch 28/30\n",
      "273/273 [==============================] - 11s 42ms/step - loss: 0.2326 - accuracy: 0.9163 - val_loss: 0.5198 - val_accuracy: 0.8532\n",
      "Epoch 29/30\n",
      "271/273 [============================>.] - ETA: 0s - loss: 0.2249 - accuracy: 0.9173\n",
      "Epoch 00029: ReduceLROnPlateau reducing learning rate to 2.700000040931627e-05.\n",
      "273/273 [==============================] - 11s 42ms/step - loss: 0.2264 - accuracy: 0.9168 - val_loss: 0.5246 - val_accuracy: 0.8548\n",
      "Epoch 30/30\n",
      "273/273 [==============================] - 11s 42ms/step - loss: 0.2128 - accuracy: 0.9230 - val_loss: 0.5325 - val_accuracy: 0.8516\n"
     ]
    }
   ],
   "source": [
    "history3 = model3.fit(\n",
    "    train_images, \n",
    "    train_labels, \n",
    "    batch_size = 32, \n",
    "    epochs = 30, \n",
    "    validation_data = (val_images, val_labels), \n",
    "    callbacks=[learning_rate_reduction])"
   ]
  },
  {
   "cell_type": "code",
   "execution_count": 12,
   "metadata": {
    "execution": {
     "iopub.execute_input": "2024-07-01T08:00:55.213625Z",
     "iopub.status.busy": "2024-07-01T08:00:55.213282Z",
     "iopub.status.idle": "2024-07-01T08:00:55.225453Z",
     "shell.execute_reply": "2024-07-01T08:00:55.224440Z",
     "shell.execute_reply.started": "2024-07-01T08:00:55.213597Z"
    }
   },
   "outputs": [],
   "source": [
    "# Doğruluk ve Kayıp grafik fonksiyonu oluşturma\n",
    "\n",
    "def plot_accuracy_loss_chart(history):\n",
    "    epochs = [i for i in range(30)]\n",
    "    fig , ax = plt.subplots(1,2)\n",
    "    train_acc = history.history['accuracy']\n",
    "    train_loss = history.history['loss']\n",
    "    val_acc = history.history['val_accuracy']\n",
    "    val_loss = history.history['val_loss']\n",
    "    fig.set_size_inches(20,10)\n",
    "    ax[0].plot(epochs , train_acc , 'go-' , label = 'Eğitim Doğruluğu')\n",
    "    ax[0].plot(epochs , val_acc , 'ro-' , label = 'Doğrulama Doğruluğu')\n",
    "    ax[0].set_title('Eğitim ve Doğrulama Doğruluğu')\n",
    "    ax[0].legend()\n",
    "    ax[0].set_xlabel(\"Epochs\")\n",
    "    ax[0].set_ylabel(\"Kesinlik\")\n",
    "\n",
    "    ax[1].plot(epochs , train_loss , 'g-o' , label = 'Eğitim Kaybı')\n",
    "    ax[1].plot(epochs , val_loss , 'r-o' , label = 'Doğrulama Kaybı')\n",
    "    ax[1].set_title('Eğitim ve Doğrulama Kaybı')\n",
    "    ax[1].legend()\n",
    "    ax[1].set_xlabel(\"Epochs\")\n",
    "    ax[1].set_ylabel(\"Eğitim ve Doğrulama Kaybı\")\n",
    "    plt.show()"
   ]
  },
  {
   "cell_type": "code",
   "execution_count": 13,
   "metadata": {
    "execution": {
     "iopub.execute_input": "2024-07-01T08:00:57.502982Z",
     "iopub.status.busy": "2024-07-01T08:00:57.502658Z",
     "iopub.status.idle": "2024-07-01T08:00:57.856263Z",
     "shell.execute_reply": "2024-07-01T08:00:57.855380Z",
     "shell.execute_reply.started": "2024-07-01T08:00:57.502953Z"
    }
   },
   "outputs": [
    {
     "data": {
      "image/png": "[encoded data removed]",
      "text/plain": [
       "<Figure size 1440x720 with 2 Axes>"
      ]
     },
     "metadata": {
      "needs_background": "light"
     },
     "output_type": "display_data"
    }
   ],
   "source": [
    "# Model 2 için Doğruluk ve Kayıp grafikleri\n",
    "\n",
    "plot_accuracy_loss_chart(history3)"
   ]
  },
  {
   "cell_type": "code",
   "execution_count": 14,
   "metadata": {
    "execution": {
     "iopub.execute_input": "2024-07-01T08:01:07.602381Z",
     "iopub.status.busy": "2024-07-01T08:01:07.601986Z",
     "iopub.status.idle": "2024-07-01T08:01:10.359907Z",
     "shell.execute_reply": "2024-07-01T08:01:10.358985Z",
     "shell.execute_reply.started": "2024-07-01T08:01:07.602343Z"
    }
   },
   "outputs": [
    {
     "name": "stdout",
     "output_type": "stream",
     "text": [
      "59/59 [==============================] - 2s 33ms/step - loss: 0.5589 - accuracy: 0.8436\n",
      "Modelin kaybı -  0.558904230594635\n",
      "Modelin doğruluğu -  84.35993790626526 %\n"
     ]
    }
   ],
   "source": [
    "# Test verileri üzerinde modeli değerlendirme\n",
    "\n",
    "results = model3.evaluate(test_images, test_labels)\n",
    "\n",
    "print(\"Modelin kaybı - \", results[0])\n",
    "print(\"Modelin doğruluğu - \", results[1]*100, \"%\")"
   ]
  },
  {
   "cell_type": "code",
   "execution_count": 16,
   "metadata": {
    "execution": {
     "iopub.execute_input": "2024-07-01T08:03:16.612870Z",
     "iopub.status.busy": "2024-07-01T08:03:16.612539Z",
     "iopub.status.idle": "2024-07-01T08:03:16.850990Z",
     "shell.execute_reply": "2024-07-01T08:03:16.850272Z",
     "shell.execute_reply.started": "2024-07-01T08:03:16.612842Z"
    }
   },
   "outputs": [],
   "source": [
    "model3.save('Bloodcell_Classification_Model2_Finetuned_VGG16_30_epochs.h5')"
   ]
  },
  {
   "cell_type": "code",
   "execution_count": 17,
   "metadata": {
    "execution": {
     "iopub.execute_input": "2024-07-01T08:03:20.028690Z",
     "iopub.status.busy": "2024-07-01T08:03:20.028343Z",
     "iopub.status.idle": "2024-07-01T08:03:22.470954Z",
     "shell.execute_reply": "2024-07-01T08:03:22.470203Z",
     "shell.execute_reply.started": "2024-07-01T08:03:20.028661Z"
    }
   },
   "outputs": [
    {
     "data": {
      "text/plain": [
       "array([2, 3, 0, 1, 0, 3, 2, 3, 0, 3, 0, 0, 1, 3, 2])"
      ]
     },
     "execution_count": 17,
     "metadata": {},
     "output_type": "execute_result"
    }
   ],
   "source": [
    "# Test görüntüleri için tahminler oluşturması\n",
    "\n",
    "predictions3 = model3.predict(test_images)\n",
    "predictions3 = np.argmax(predictions3,axis=1)\n",
    "predictions3[:15]"
   ]
  },
  {
   "cell_type": "code",
   "execution_count": 18,
   "metadata": {
    "execution": {
     "iopub.execute_input": "2024-07-01T08:03:27.156153Z",
     "iopub.status.busy": "2024-07-01T08:03:27.155829Z",
     "iopub.status.idle": "2024-07-01T08:03:27.169126Z",
     "shell.execute_reply": "2024-07-01T08:03:27.168256Z",
     "shell.execute_reply.started": "2024-07-01T08:03:27.156123Z"
    }
   },
   "outputs": [
    {
     "name": "stdout",
     "output_type": "stream",
     "text": [
      "                      precision    recall  f1-score   support\n",
      "\n",
      "EOSINOPHIL (Class 0)       0.79      0.72      0.75       442\n",
      "LYMPHOCYTE (Class 1)       0.87      0.92      0.90       469\n",
      "  MONOCYTE (Class 2)       0.91      0.97      0.94       462\n",
      "NEUTROPHIL (Class 3)       0.80      0.77      0.78       494\n",
      "\n",
      "            accuracy                           0.84      1867\n",
      "           macro avg       0.84      0.84      0.84      1867\n",
      "        weighted avg       0.84      0.84      0.84      1867\n",
      "\n"
     ]
    }
   ],
   "source": [
    "from sklearn.metrics import classification_report\n",
    "\n",
    "print(classification_report(\n",
    "    test_labels, \n",
    "    predictions3, \n",
    "    target_names = ['EOSINOPHIL (Class 0)', 'LYMPHOCYTE (Class 1)', 'MONOCYTE (Class 2)', 'NEUTROPHIL (Class 3)']))"
   ]
  },
  {
   "cell_type": "code",
   "execution_count": 20,
   "metadata": {
    "execution": {
     "iopub.execute_input": "2024-07-01T08:04:07.773058Z",
     "iopub.status.busy": "2024-07-01T08:04:07.772699Z",
     "iopub.status.idle": "2024-07-01T08:04:07.780049Z",
     "shell.execute_reply": "2024-07-01T08:04:07.779211Z",
     "shell.execute_reply.started": "2024-07-01T08:04:07.773023Z"
    }
   },
   "outputs": [],
   "source": [
    "# Karmaşıklık matrisi çizim fonksiyonu ve yürütme\n",
    "\n",
    "def plot_confusion_matrix (cm):\n",
    "    plt.figure(figsize = (10,10))\n",
    "    sns.heatmap(\n",
    "        cm, \n",
    "        cmap = 'Blues', \n",
    "        linecolor = 'black', \n",
    "        linewidth = 1, \n",
    "        annot = True, \n",
    "        fmt = '', \n",
    "        xticklabels = class_names, \n",
    "        yticklabels = class_names)"
   ]
  },
  {
   "cell_type": "code",
   "execution_count": 21,
   "metadata": {
    "execution": {
     "iopub.execute_input": "2024-07-01T08:04:11.613453Z",
     "iopub.status.busy": "2024-07-01T08:04:11.613029Z",
     "iopub.status.idle": "2024-07-01T08:04:11.904111Z",
     "shell.execute_reply": "2024-07-01T08:04:11.903330Z",
     "shell.execute_reply.started": "2024-07-01T08:04:11.613419Z"
    }
   },
   "outputs": [
    {
     "data": {
      "image/png": "[encoded data removed]",
      "text/plain": [
       "<Figure size 720x720 with 2 Axes>"
      ]
     },
     "metadata": {
      "needs_background": "light"
     },
     "output_type": "display_data"
    }
   ],
   "source": [
    "# Model 3 için grafik karışıklık matrisi\n",
    "\n",
    "cm3 = confusion_matrix(test_labels, predictions3)\n",
    "cm3 = pd.DataFrame(cm3, index = ['0', '1', '2', '3'], columns = ['0', '1', '2', '3'])\n",
    "plot_confusion_matrix(cm3)"
   ]
  },
  {
   "cell_type": "markdown",
   "metadata": {},
   "source": [
    "VGG16 modeli (%84,3), sıfırdan oluşturulan CNN'den (%91,6) ve Densenet201 modelinden (%91,2) önemli ölçüde daha kötü performans gösterdi. Nötrofiller ve Eozinofilleri sınıflandırmaya çalışırken Lenfositler ve Monositler üzerinde aynı yüksek performans eğilimlerini tekrar görüyoruz."
   ]
  },
  {
   "cell_type": "markdown",
   "metadata": {},
   "source": [
    "# Referanslar\n",
    "\n",
    "Bazı kodlar şu şekilde uyarlandı: [Carlos Zuluaga](https://medium.com/@carlosz22/transfer-learning-using-keras-with-densenet-169-91679300f94a), [Vincee](https://www.kaggle.com/vincee/intel-image-classification-cnn-keras) ve [Abhinav Sagar](https://towardsdatascience.com/deep-learning-for-detecting-pneumonia-from-x-ray-images-fc9a3d9fdba8)"
   ]
  }
 ],
 "metadata": {
  "kaggle": {
   "accelerator": "gpu",
   "dataSources": [
    {
     "datasetId": 9232,
     "sourceId": 29380,
     "sourceType": "datasetVersion"
    }
   ],
   "dockerImageVersionId": 30043,
   "isGpuEnabled": true,
   "isInternetEnabled": true,
   "language": "python",
   "sourceType": "notebook"
  },
  "kernelspec": {
   "display_name": "Python 3 (ipykernel)",
   "language": "python",
   "name": "python3"
  },
  "language_info": {
   "codemirror_mode": {
    "name": "ipython",
    "version": 3
   },
   "file_extension": ".py",
   "mimetype": "text/x-python",
   "name": "python",
   "nbconvert_exporter": "python",
   "pygments_lexer": "ipython3",
   "version": "3.7.2"
  }
 },
 "nbformat": 4,
 "nbformat_minor": 4
}
